{
 "cells": [
  {
   "cell_type": "code",
   "execution_count": 1,
   "id": "7fc653ba",
   "metadata": {},
   "outputs": [],
   "source": [
    "import pandas as pd\n",
    "import numpy as np\n",
    "from sklearn.feature_selection import SelectKBest\n",
    "from sklearn.feature_selection import chi2\n",
    "from sklearn.model_selection import train_test_split\n",
    "from sklearn.linear_model import LinearRegression\n",
    "from sklearn.preprocessing import StandardScaler\n",
    "from sklearn.pipeline import Pipeline\n",
    "import sys"
   ]
  },
  {
   "cell_type": "code",
   "execution_count": 4,
   "id": "c9927294",
   "metadata": {},
   "outputs": [],
   "source": [
    "df = pd.read_csv('new_hps4.csv')\n",
    "for index, row in df.iterrows():\n",
    "    if row['state_metropolitan'] == 'metropolitan':\n",
    "        df.at[index,'state_metropolitan'] = 1\n",
    "    else:\n",
    "        df.at[index,'state_metropolitan'] = 0\n",
    "        \n",
    "del df[\"teach_indivisualstudy\"]\n",
    "del df[\"Week\"]\n",
    "X = df.iloc[:,2:22]\n",
    "y = df.iloc[:,-1] \n",
    "\n",
    "\n",
    "\n"
   ]
  },
  {
   "cell_type": "code",
   "execution_count": 5,
   "id": "c29e9599",
   "metadata": {},
   "outputs": [
    {
     "data": {
      "text/html": [
       "<div>\n",
       "<style scoped>\n",
       "    .dataframe tbody tr th:only-of-type {\n",
       "        vertical-align: middle;\n",
       "    }\n",
       "\n",
       "    .dataframe tbody tr th {\n",
       "        vertical-align: top;\n",
       "    }\n",
       "\n",
       "    .dataframe thead th {\n",
       "        text-align: right;\n",
       "    }\n",
       "</style>\n",
       "<table border=\"1\" class=\"dataframe\">\n",
       "  <thead>\n",
       "    <tr style=\"text-align: right;\">\n",
       "      <th></th>\n",
       "      <th>States</th>\n",
       "      <th>UI_quarantined</th>\n",
       "      <th>UI_highrisk</th>\n",
       "      <th>state_metropolitan</th>\n",
       "      <th>Marital_Status</th>\n",
       "      <th>Food_Sufficency</th>\n",
       "      <th>Private_Health_insurance_status</th>\n",
       "      <th>Public_Health_insurance_status</th>\n",
       "      <th>anxiety</th>\n",
       "      <th>worry</th>\n",
       "      <th>...</th>\n",
       "      <th>Householdincome</th>\n",
       "      <th>teach_cancelled</th>\n",
       "      <th>teach_distance_online</th>\n",
       "      <th>teach_distance_paper</th>\n",
       "      <th>teach_others</th>\n",
       "      <th>teach_no.change</th>\n",
       "      <th>teach_livecontact</th>\n",
       "      <th>teach_studytime</th>\n",
       "      <th>Health_insurance</th>\n",
       "      <th>whether_study</th>\n",
       "    </tr>\n",
       "  </thead>\n",
       "  <tbody>\n",
       "    <tr>\n",
       "      <th>0</th>\n",
       "      <td>1</td>\n",
       "      <td>1</td>\n",
       "      <td>0</td>\n",
       "      <td>1</td>\n",
       "      <td>3</td>\n",
       "      <td>3</td>\n",
       "      <td>1</td>\n",
       "      <td>2</td>\n",
       "      <td>4</td>\n",
       "      <td>4</td>\n",
       "      <td>...</td>\n",
       "      <td>2</td>\n",
       "      <td>1</td>\n",
       "      <td>1</td>\n",
       "      <td>0</td>\n",
       "      <td>0</td>\n",
       "      <td>0</td>\n",
       "      <td>1</td>\n",
       "      <td>1</td>\n",
       "      <td>1</td>\n",
       "      <td>0</td>\n",
       "    </tr>\n",
       "    <tr>\n",
       "      <th>1</th>\n",
       "      <td>1</td>\n",
       "      <td>1</td>\n",
       "      <td>0</td>\n",
       "      <td>1</td>\n",
       "      <td>1</td>\n",
       "      <td>1</td>\n",
       "      <td>1</td>\n",
       "      <td>2</td>\n",
       "      <td>3</td>\n",
       "      <td>3</td>\n",
       "      <td>...</td>\n",
       "      <td>6</td>\n",
       "      <td>1</td>\n",
       "      <td>1</td>\n",
       "      <td>0</td>\n",
       "      <td>0</td>\n",
       "      <td>0</td>\n",
       "      <td>1</td>\n",
       "      <td>1</td>\n",
       "      <td>1</td>\n",
       "      <td>1</td>\n",
       "    </tr>\n",
       "    <tr>\n",
       "      <th>2</th>\n",
       "      <td>1</td>\n",
       "      <td>1</td>\n",
       "      <td>0</td>\n",
       "      <td>1</td>\n",
       "      <td>1</td>\n",
       "      <td>1</td>\n",
       "      <td>1</td>\n",
       "      <td>2</td>\n",
       "      <td>2</td>\n",
       "      <td>1</td>\n",
       "      <td>...</td>\n",
       "      <td>4</td>\n",
       "      <td>1</td>\n",
       "      <td>1</td>\n",
       "      <td>0</td>\n",
       "      <td>0</td>\n",
       "      <td>0</td>\n",
       "      <td>4</td>\n",
       "      <td>2</td>\n",
       "      <td>1</td>\n",
       "      <td>1</td>\n",
       "    </tr>\n",
       "    <tr>\n",
       "      <th>3</th>\n",
       "      <td>1</td>\n",
       "      <td>1</td>\n",
       "      <td>0</td>\n",
       "      <td>1</td>\n",
       "      <td>1</td>\n",
       "      <td>1</td>\n",
       "      <td>1</td>\n",
       "      <td>2</td>\n",
       "      <td>2</td>\n",
       "      <td>2</td>\n",
       "      <td>...</td>\n",
       "      <td>5</td>\n",
       "      <td>0</td>\n",
       "      <td>1</td>\n",
       "      <td>1</td>\n",
       "      <td>0</td>\n",
       "      <td>0</td>\n",
       "      <td>3</td>\n",
       "      <td>1</td>\n",
       "      <td>1</td>\n",
       "      <td>1</td>\n",
       "    </tr>\n",
       "    <tr>\n",
       "      <th>4</th>\n",
       "      <td>1</td>\n",
       "      <td>1</td>\n",
       "      <td>0</td>\n",
       "      <td>1</td>\n",
       "      <td>3</td>\n",
       "      <td>2</td>\n",
       "      <td>1</td>\n",
       "      <td>1</td>\n",
       "      <td>1</td>\n",
       "      <td>1</td>\n",
       "      <td>...</td>\n",
       "      <td>4</td>\n",
       "      <td>0</td>\n",
       "      <td>1</td>\n",
       "      <td>0</td>\n",
       "      <td>0</td>\n",
       "      <td>0</td>\n",
       "      <td>3</td>\n",
       "      <td>5</td>\n",
       "      <td>1</td>\n",
       "      <td>1</td>\n",
       "    </tr>\n",
       "    <tr>\n",
       "      <th>...</th>\n",
       "      <td>...</td>\n",
       "      <td>...</td>\n",
       "      <td>...</td>\n",
       "      <td>...</td>\n",
       "      <td>...</td>\n",
       "      <td>...</td>\n",
       "      <td>...</td>\n",
       "      <td>...</td>\n",
       "      <td>...</td>\n",
       "      <td>...</td>\n",
       "      <td>...</td>\n",
       "      <td>...</td>\n",
       "      <td>...</td>\n",
       "      <td>...</td>\n",
       "      <td>...</td>\n",
       "      <td>...</td>\n",
       "      <td>...</td>\n",
       "      <td>...</td>\n",
       "      <td>...</td>\n",
       "      <td>...</td>\n",
       "      <td>...</td>\n",
       "    </tr>\n",
       "    <tr>\n",
       "      <th>130298</th>\n",
       "      <td>56</td>\n",
       "      <td>1</td>\n",
       "      <td>0</td>\n",
       "      <td>1</td>\n",
       "      <td>3</td>\n",
       "      <td>2</td>\n",
       "      <td>1</td>\n",
       "      <td>1</td>\n",
       "      <td>2</td>\n",
       "      <td>2</td>\n",
       "      <td>...</td>\n",
       "      <td>1</td>\n",
       "      <td>0</td>\n",
       "      <td>0</td>\n",
       "      <td>0</td>\n",
       "      <td>0</td>\n",
       "      <td>1</td>\n",
       "      <td>4</td>\n",
       "      <td>3</td>\n",
       "      <td>1</td>\n",
       "      <td>0</td>\n",
       "    </tr>\n",
       "    <tr>\n",
       "      <th>130299</th>\n",
       "      <td>56</td>\n",
       "      <td>1</td>\n",
       "      <td>0</td>\n",
       "      <td>1</td>\n",
       "      <td>1</td>\n",
       "      <td>2</td>\n",
       "      <td>1</td>\n",
       "      <td>2</td>\n",
       "      <td>4</td>\n",
       "      <td>4</td>\n",
       "      <td>...</td>\n",
       "      <td>8</td>\n",
       "      <td>0</td>\n",
       "      <td>1</td>\n",
       "      <td>0</td>\n",
       "      <td>0</td>\n",
       "      <td>0</td>\n",
       "      <td>4</td>\n",
       "      <td>3</td>\n",
       "      <td>1</td>\n",
       "      <td>1</td>\n",
       "    </tr>\n",
       "    <tr>\n",
       "      <th>130300</th>\n",
       "      <td>56</td>\n",
       "      <td>1</td>\n",
       "      <td>0</td>\n",
       "      <td>1</td>\n",
       "      <td>1</td>\n",
       "      <td>2</td>\n",
       "      <td>1</td>\n",
       "      <td>2</td>\n",
       "      <td>3</td>\n",
       "      <td>2</td>\n",
       "      <td>...</td>\n",
       "      <td>5</td>\n",
       "      <td>0</td>\n",
       "      <td>0</td>\n",
       "      <td>0</td>\n",
       "      <td>0</td>\n",
       "      <td>1</td>\n",
       "      <td>4</td>\n",
       "      <td>4</td>\n",
       "      <td>1</td>\n",
       "      <td>0</td>\n",
       "    </tr>\n",
       "    <tr>\n",
       "      <th>130301</th>\n",
       "      <td>56</td>\n",
       "      <td>1</td>\n",
       "      <td>0</td>\n",
       "      <td>1</td>\n",
       "      <td>1</td>\n",
       "      <td>1</td>\n",
       "      <td>1</td>\n",
       "      <td>2</td>\n",
       "      <td>4</td>\n",
       "      <td>4</td>\n",
       "      <td>...</td>\n",
       "      <td>5</td>\n",
       "      <td>0</td>\n",
       "      <td>0</td>\n",
       "      <td>0</td>\n",
       "      <td>0</td>\n",
       "      <td>1</td>\n",
       "      <td>4</td>\n",
       "      <td>3</td>\n",
       "      <td>1</td>\n",
       "      <td>1</td>\n",
       "    </tr>\n",
       "    <tr>\n",
       "      <th>130302</th>\n",
       "      <td>56</td>\n",
       "      <td>1</td>\n",
       "      <td>0</td>\n",
       "      <td>1</td>\n",
       "      <td>1</td>\n",
       "      <td>1</td>\n",
       "      <td>2</td>\n",
       "      <td>1</td>\n",
       "      <td>2</td>\n",
       "      <td>1</td>\n",
       "      <td>...</td>\n",
       "      <td>3</td>\n",
       "      <td>0</td>\n",
       "      <td>0</td>\n",
       "      <td>0</td>\n",
       "      <td>0</td>\n",
       "      <td>1</td>\n",
       "      <td>4</td>\n",
       "      <td>3</td>\n",
       "      <td>1</td>\n",
       "      <td>0</td>\n",
       "    </tr>\n",
       "  </tbody>\n",
       "</table>\n",
       "<p>130303 rows × 23 columns</p>\n",
       "</div>"
      ],
      "text/plain": [
       "        States  UI_quarantined  UI_highrisk state_metropolitan  \\\n",
       "0            1               1            0                  1   \n",
       "1            1               1            0                  1   \n",
       "2            1               1            0                  1   \n",
       "3            1               1            0                  1   \n",
       "4            1               1            0                  1   \n",
       "...        ...             ...          ...                ...   \n",
       "130298      56               1            0                  1   \n",
       "130299      56               1            0                  1   \n",
       "130300      56               1            0                  1   \n",
       "130301      56               1            0                  1   \n",
       "130302      56               1            0                  1   \n",
       "\n",
       "        Marital_Status  Food_Sufficency  Private_Health_insurance_status  \\\n",
       "0                    3                3                                1   \n",
       "1                    1                1                                1   \n",
       "2                    1                1                                1   \n",
       "3                    1                1                                1   \n",
       "4                    3                2                                1   \n",
       "...                ...              ...                              ...   \n",
       "130298               3                2                                1   \n",
       "130299               1                2                                1   \n",
       "130300               1                2                                1   \n",
       "130301               1                1                                1   \n",
       "130302               1                1                                2   \n",
       "\n",
       "        Public_Health_insurance_status  anxiety  worry  ...  Householdincome  \\\n",
       "0                                    2        4      4  ...                2   \n",
       "1                                    2        3      3  ...                6   \n",
       "2                                    2        2      1  ...                4   \n",
       "3                                    2        2      2  ...                5   \n",
       "4                                    1        1      1  ...                4   \n",
       "...                                ...      ...    ...  ...              ...   \n",
       "130298                               1        2      2  ...                1   \n",
       "130299                               2        4      4  ...                8   \n",
       "130300                               2        3      2  ...                5   \n",
       "130301                               2        4      4  ...                5   \n",
       "130302                               1        2      1  ...                3   \n",
       "\n",
       "        teach_cancelled  teach_distance_online  teach_distance_paper  \\\n",
       "0                     1                      1                     0   \n",
       "1                     1                      1                     0   \n",
       "2                     1                      1                     0   \n",
       "3                     0                      1                     1   \n",
       "4                     0                      1                     0   \n",
       "...                 ...                    ...                   ...   \n",
       "130298                0                      0                     0   \n",
       "130299                0                      1                     0   \n",
       "130300                0                      0                     0   \n",
       "130301                0                      0                     0   \n",
       "130302                0                      0                     0   \n",
       "\n",
       "        teach_others  teach_no.change  teach_livecontact  teach_studytime  \\\n",
       "0                  0                0                  1                1   \n",
       "1                  0                0                  1                1   \n",
       "2                  0                0                  4                2   \n",
       "3                  0                0                  3                1   \n",
       "4                  0                0                  3                5   \n",
       "...              ...              ...                ...              ...   \n",
       "130298             0                1                  4                3   \n",
       "130299             0                0                  4                3   \n",
       "130300             0                1                  4                4   \n",
       "130301             0                1                  4                3   \n",
       "130302             0                1                  4                3   \n",
       "\n",
       "        Health_insurance  whether_study  \n",
       "0                      1              0  \n",
       "1                      1              1  \n",
       "2                      1              1  \n",
       "3                      1              1  \n",
       "4                      1              1  \n",
       "...                  ...            ...  \n",
       "130298                 1              0  \n",
       "130299                 1              1  \n",
       "130300                 1              0  \n",
       "130301                 1              1  \n",
       "130302                 1              0  \n",
       "\n",
       "[130303 rows x 23 columns]"
      ]
     },
     "execution_count": 5,
     "metadata": {},
     "output_type": "execute_result"
    }
   ],
   "source": [
    "df"
   ]
  },
  {
   "cell_type": "code",
   "execution_count": 9,
   "id": "240edc6a",
   "metadata": {},
   "outputs": [
    {
     "name": "stdout",
     "output_type": "stream",
     "text": [
      "[0.03216107 0.02397631 0.07259628 0.07105088 0.02262281 0.04679843\n",
      " 0.07273674 0.06817083 0.06529735 0.06904938 0.03350373 0.17517671\n",
      " 0.02176747 0.01786548 0.01790717 0.00948277 0.01232651 0.0736979\n",
      " 0.08589118 0.00792099]\n"
     ]
    },
    {
     "data": {
      "image/png": "[encoded data removed]",
      "text/plain": [
       "<Figure size 432x288 with 1 Axes>"
      ]
     },
     "metadata": {
      "needs_background": "light"
     },
     "output_type": "display_data"
    }
   ],
   "source": [
    "from sklearn.ensemble import ExtraTreesClassifier\n",
    "import matplotlib.pyplot as plt\n",
    "model = ExtraTreesClassifier()\n",
    "model.fit(X,y)\n",
    "print(model.feature_importances_) #use inbuilt class feature_importances of tree based classifiers\n",
    "#plot graph of feature importances for better visualization\n",
    "feat_importances = pd.Series(model.feature_importances_, index=X.columns)\n",
    "feat_importances.nlargest(10).plot(kind='barh')\n",
    "plt.show()"
   ]
  },
  {
   "cell_type": "code",
   "execution_count": 6,
   "id": "991dfd49",
   "metadata": {},
   "outputs": [],
   "source": [
    "X = df[[ \"Householdincome\", \"teach_studytime\", \"teach_livecontact\", \"anxiety\", \"worry\", \"Marital_Status\", \"Food_Sufficency\", \"no_interest\",\"depression\",\"Public_Health_insurance_status\"]].to_numpy()\n",
    "y = df[['whether_study']].to_numpy()\n",
    "y = np.ravel(y)\n",
    "\n",
    "X_train, X_test, y_train, y_test = train_test_split(X, y, test_size=0.3, random_state=42)"
   ]
  },
  {
   "cell_type": "code",
   "execution_count": 17,
   "id": "7ca0297c",
   "metadata": {},
   "outputs": [],
   "source": [
    "from sklearn.tree import DecisionTreeClassifier\n",
    "tree_train_list = []\n",
    "index = []\n",
    "tree_test_list = []\n",
    "for i in range(100):\n",
    "    index.append(i+ 1)\n",
    "    tree = DecisionTreeClassifier(max_depth=i + 1,class_weight = \"balanced\")\n",
    "    tree.fit(X_train, y_train)\n",
    "    tree_test_list.append(tree.score(X_test, y_test)) \n",
    "    tree_train_list.append(tree.score(X_train, y_train)) "
   ]
  },
  {
   "cell_type": "code",
   "execution_count": 18,
   "id": "b576f105",
   "metadata": {},
   "outputs": [
    {
     "data": {
      "image/png": "[encoded data removed]",
      "text/plain": [
       "<Figure size 432x288 with 1 Axes>"
      ]
     },
     "metadata": {
      "needs_background": "light"
     },
     "output_type": "display_data"
    }
   ],
   "source": [
    "from sklearn.ensemble import ExtraTreesClassifier\n",
    "import matplotlib.pyplot as plt\n",
    "plt.plot(index, tree_train_list, marker='o', label='Train')\n",
    "plt.plot(index, tree_test_list, marker='s', label='Test')\n",
    "plt.legend(loc='best', numpoints=1)\n",
    "plt.xlabel('max_depth')\n",
    "plt.ylabel('Accuracy')\n",
    "plt.tight_layout()"
   ]
  },
  {
   "cell_type": "code",
   "execution_count": 19,
   "id": "d70f16db",
   "metadata": {},
   "outputs": [
    {
     "name": "stdout",
     "output_type": "stream",
     "text": [
      "Best Accuracy: 76.93%\n",
      "Best Params: {'criterion': 'gini', 'max_depth': 1}\n",
      "Test Accuracy: 76.99%\n"
     ]
    }
   ],
   "source": [
    "from sklearn.model_selection import GridSearchCV\n",
    "tree = DecisionTreeClassifier(random_state=123,class_weight = \"balanced\")\n",
    "\n",
    "new_list = [None]\n",
    "for i in range(20):\n",
    "    new_list.append(i+1)\n",
    "param_grid = {\n",
    "    'criterion': ['gini', 'entropy'],\n",
    "    'max_depth': new_list\n",
    "}\n",
    "\n",
    "gs = GridSearchCV(estimator=tree,\n",
    "                  param_grid=param_grid,\n",
    "                  scoring='accuracy',\n",
    "                  cv=10)\n",
    "\n",
    "gs.fit(X_train, y_train)\n",
    "\n",
    "print('Best Accuracy: %.2f%%' % (gs.best_score_*100))\n",
    "print('Best Params: %s' % gs.best_params_)\n",
    "print('Test Accuracy: %.2f%%' % (gs.best_estimator_.score(X_test, y_test)*100))"
   ]
  },
  {
   "cell_type": "code",
   "execution_count": 20,
   "id": "c2745d9b",
   "metadata": {},
   "outputs": [
    {
     "name": "stdout",
     "output_type": "stream",
     "text": [
      "[[ 1738  6764]\n",
      " [ 2232 28357]]\n",
      "              precision    recall  f1-score   support\n",
      "\n",
      "           0       0.44      0.20      0.28      8502\n",
      "           1       0.81      0.93      0.86     30589\n",
      "\n",
      "    accuracy                           0.77     39091\n",
      "   macro avg       0.62      0.57      0.57     39091\n",
      "weighted avg       0.73      0.77      0.74     39091\n",
      "\n"
     ]
    }
   ],
   "source": [
    "y_pred_tree = gs.best_estimator_.predict(X_test)\n",
    "from sklearn.metrics import classification_report, confusion_matrix\n",
    "tree_conf = confusion_matrix(y_test, y_pred_tree)\n",
    "print(tree_conf)\n",
    "print(classification_report(y_test, y_pred_tree))\n"
   ]
  },
  {
   "cell_type": "code",
   "execution_count": 16,
   "id": "427139ad",
   "metadata": {},
   "outputs": [
    {
     "name": "stdout",
     "output_type": "stream",
     "text": [
      "Best Accuracy: 75.45%\n",
      "Best Params: {'criterion': 'gini', 'max_depth': 1, 'n_estimators': 20}\n",
      "Test Accuracy: 76.60%\n"
     ]
    }
   ],
   "source": [
    "from sklearn.model_selection import GridSearchCV\n",
    "from sklearn.ensemble import RandomForestClassifier\n",
    "forest = RandomForestClassifier(n_estimators=10, random_state=123, class_weight = \"balanced\" )\n",
    "\n",
    "\n",
    "\n",
    "param_grid_forest = {\n",
    "    'criterion': ['gini', 'entropy'],\n",
    "    'n_estimators': [10, 20, 50, 100, 150],\n",
    "    'max_depth': [1, 10, 50, 100, 150]\n",
    "}\n",
    "\n",
    "gs_forest = GridSearchCV(estimator=forest,\n",
    "                  param_grid=param_grid_forest,\n",
    "                  scoring='accuracy',\n",
    "                  cv=10)\n",
    "\n",
    "gs_forest.fit(X_train, y_train)\n",
    "\n",
    "print('Best Accuracy: %.2f%%' % (gs_forest.best_score_*100))\n",
    "print('Best Params: %s' % gs_forest.best_params_)\n",
    "print('Test Accuracy: %.2f%%' % (gs_forest.best_estimator_.score(X_test, y_test)*100))"
   ]
  },
  {
   "cell_type": "code",
   "execution_count": 17,
   "id": "7f9196cc",
   "metadata": {},
   "outputs": [
    {
     "name": "stdout",
     "output_type": "stream",
     "text": [
      "[[ 1817  6685]\n",
      " [ 2463 28126]]\n",
      "              precision    recall  f1-score   support\n",
      "\n",
      "           0       0.42      0.21      0.28      8502\n",
      "           1       0.81      0.92      0.86     30589\n",
      "\n",
      "    accuracy                           0.77     39091\n",
      "   macro avg       0.62      0.57      0.57     39091\n",
      "weighted avg       0.72      0.77      0.73     39091\n",
      "\n"
     ]
    }
   ],
   "source": [
    "y_pred_tree = gs_forest.best_estimator_.predict(X_test)\n",
    "from sklearn.metrics import classification_report, confusion_matrix\n",
    "tree_conf = confusion_matrix(y_test, y_pred_tree)\n",
    "print(tree_conf)\n",
    "print(classification_report(y_test, y_pred_tree))\n"
   ]
  },
  {
   "cell_type": "code",
   "execution_count": 9,
   "id": "8cc684ac",
   "metadata": {},
   "outputs": [
    {
     "name": "stdout",
     "output_type": "stream",
     "text": [
      "0.3633572945179197\n",
      "Test Accuracy: 63.66%\n"
     ]
    }
   ],
   "source": [
    "from sklearn.linear_model import LogisticRegression\n",
    "\n",
    "log_res = LogisticRegression(random_state=123, C = 0.001,class_weight = \"balanced\")\n",
    "\n",
    "log_res.fit(X_train, y_train)\n",
    "from sklearn.metrics import mean_squared_error\n",
    "y_pred = log_res.predict(X_test)\n",
    "print(mean_squared_error(y_test, y_pred))\n",
    "\n",
    "print('Test Accuracy: %.2f%%' % (log_res.score(X_test, y_test)*100))"
   ]
  },
  {
   "cell_type": "code",
   "execution_count": 28,
   "id": "46418de1",
   "metadata": {},
   "outputs": [],
   "source": [
    "from sklearn.svm import LinearSVC\n",
    "from sklearn.metrics import accuracy_score\n",
    "from sklearn.metrics import precision_score\n",
    "from sklearn.metrics import recall_score\n",
    "from sklearn.metrics import f1_score"
   ]
  },
  {
   "cell_type": "code",
   "execution_count": 29,
   "id": "bbdbcd2e",
   "metadata": {},
   "outputs": [
    {
     "name": "stderr",
     "output_type": "stream",
     "text": [
      "/Users/jiayigao/opt/anaconda3/lib/python3.8/site-packages/sklearn/svm/_base.py:985: ConvergenceWarning: Liblinear failed to converge, increase the number of iterations.\n",
      "  warnings.warn(\"Liblinear failed to converge, increase \"\n"
     ]
    },
    {
     "data": {
      "text/plain": [
       "0.6482054692896063"
      ]
     },
     "execution_count": 29,
     "metadata": {},
     "output_type": "execute_result"
    }
   ],
   "source": [
    "clf = LinearSVC(random_state=0, tol=1e-3,class_weight = \"balanced\")\n",
    "LinearSVC_model = clf.fit(X_train, y_train)\n",
    "y_pred_clf = LinearSVC_model.predict(X_test)\n",
    "accuracy_score(y_test, y_pred_clf)\n"
   ]
  },
  {
   "cell_type": "code",
   "execution_count": 33,
   "id": "06a0c940",
   "metadata": {},
   "outputs": [
    {
     "data": {
      "text/plain": [
       "0.6869048130126812"
      ]
     },
     "execution_count": 33,
     "metadata": {},
     "output_type": "execute_result"
    }
   ],
   "source": [
    "\n",
    "precision_score(y_test, y_pred_clf, average='weighted')\n"
   ]
  },
  {
   "cell_type": "code",
   "execution_count": 34,
   "id": "b3644153",
   "metadata": {},
   "outputs": [
    {
     "data": {
      "text/plain": [
       "0.6647629724807123"
      ]
     },
     "execution_count": 34,
     "metadata": {},
     "output_type": "execute_result"
    }
   ],
   "source": [
    "f1_score(y_test, y_pred_clf, average='weighted')"
   ]
  },
  {
   "cell_type": "code",
   "execution_count": 35,
   "id": "30678f2d",
   "metadata": {},
   "outputs": [
    {
     "data": {
      "text/plain": [
       "0.6482054692896063"
      ]
     },
     "execution_count": 35,
     "metadata": {},
     "output_type": "execute_result"
    }
   ],
   "source": [
    "recall_score(y_test, y_pred_clf, average='weighted')"
   ]
  }
 ],
 "metadata": {
  "kernelspec": {
   "display_name": "Python 3",
   "language": "python",
   "name": "python3"
  },
  "language_info": {
   "codemirror_mode": {
    "name": "ipython",
    "version": 3
   },
   "file_extension": ".py",
   "mimetype": "text/x-python",
   "name": "python",
   "nbconvert_exporter": "python",
   "pygments_lexer": "ipython3",
   "version": "3.8.8"
  }
 },
 "nbformat": 4,
 "nbformat_minor": 5
}
