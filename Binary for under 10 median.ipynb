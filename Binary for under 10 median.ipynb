{
 "cells": [
  {
   "cell_type": "code",
   "execution_count": 1,
   "id": "439c3c50",
   "metadata": {},
   "outputs": [],
   "source": [
    "import pandas as pd\n",
    "import numpy as np\n",
    "from sklearn.feature_selection import SelectKBest\n",
    "from sklearn.feature_selection import chi2\n",
    "from sklearn.model_selection import train_test_split\n",
    "from sklearn.linear_model import LinearRegression\n",
    "from sklearn.preprocessing import StandardScaler\n",
    "from sklearn.pipeline import Pipeline\n",
    "import sys"
   ]
  },
  {
   "cell_type": "code",
   "execution_count": 2,
   "id": "98a45f69",
   "metadata": {},
   "outputs": [],
   "source": [
    "df = pd.read_csv('new_hps2.csv')\n",
    "for index, row in df.iterrows():\n",
    "    if row['state_metropolitan'] == 'metropolitan':\n",
    "        df.at[index,'state_metropolitan'] = 1\n",
    "    else:\n",
    "        df.at[index,'state_metropolitan'] = 0\n",
    "        \n",
    "del df[\"teach_indivisualstudy\"]\n",
    "del df[\"Week\"]\n",
    "X = df.iloc[:,2:22]\n",
    "y = df.iloc[:,-1] "
   ]
  },
  {
   "cell_type": "code",
   "execution_count": 4,
   "id": "693b5f44",
   "metadata": {},
   "outputs": [],
   "source": [
    "X = df[[ \"Householdincome\", \"teach_studytime\", \"teach_livecontact\", \"anxiety\", \"worry\", \"Marital_Status\", \"Food_Sufficency\", \"no_interest\",\"depression\",\"Public_Health_insurance_status\"]].to_numpy()\n",
    "y = df[['whether_study']].to_numpy()\n",
    "y = np.ravel(y)\n",
    "\n",
    "X_train, X_test, y_train, y_test = train_test_split(X, y, test_size=0.3, random_state=42)"
   ]
  },
  {
   "cell_type": "code",
   "execution_count": 5,
   "id": "101680c6",
   "metadata": {},
   "outputs": [],
   "source": [
    "from sklearn.tree import DecisionTreeClassifier\n",
    "tree_train_list = []\n",
    "index = []\n",
    "tree_test_list = []\n",
    "for i in range(100):\n",
    "    index.append(i+ 1)\n",
    "    tree = DecisionTreeClassifier(max_depth=i + 1)\n",
    "    tree.fit(X_train, y_train)\n",
    "    tree_test_list.append(tree.score(X_test, y_test)) \n",
    "    tree_train_list.append(tree.score(X_train, y_train)) "
   ]
  },
  {
   "cell_type": "code",
   "execution_count": 6,
   "id": "ae46c86b",
   "metadata": {},
   "outputs": [
    {
     "data": {
      "image/png": "[encoded data removed]",
      "text/plain": [
       "<Figure size 432x288 with 1 Axes>"
      ]
     },
     "metadata": {
      "needs_background": "light"
     },
     "output_type": "display_data"
    }
   ],
   "source": [
    "from sklearn.ensemble import ExtraTreesClassifier\n",
    "import matplotlib.pyplot as plt\n",
    "plt.plot(index, tree_train_list, marker='o', label='Train')\n",
    "plt.plot(index, tree_test_list, marker='s', label='Test')\n",
    "plt.legend(loc='best', numpoints=1)\n",
    "plt.xlabel('max_depth')\n",
    "plt.ylabel('Accuracy')\n",
    "plt.tight_layout()"
   ]
  },
  {
   "cell_type": "code",
   "execution_count": 12,
   "id": "a8fc7e60",
   "metadata": {},
   "outputs": [
    {
     "name": "stdout",
     "output_type": "stream",
     "text": [
      "Best Accuracy: 56.12%\n",
      "Best Params: {'criterion': 'gini', 'max_depth': 4}\n",
      "Test Accuracy: 56.15%\n"
     ]
    }
   ],
   "source": [
    "from sklearn.model_selection import GridSearchCV\n",
    "tree = DecisionTreeClassifier(random_state=123)\n",
    "\n",
    "new_list = [None]\n",
    "for i in range(20):\n",
    "    new_list.append(i+1)\n",
    "param_grid = {\n",
    "    'criterion': ['gini', 'entropy'],\n",
    "    'max_depth': new_list\n",
    "}\n",
    "\n",
    "gs = GridSearchCV(estimator=tree,\n",
    "                  param_grid=param_grid,\n",
    "                  scoring='accuracy',\n",
    "                  cv=10)\n",
    "\n",
    "gs.fit(X_train, y_train)\n",
    "\n",
    "print('Best Accuracy: %.2f%%' % (gs.best_score_*100))\n",
    "print('Best Params: %s' % gs.best_params_)\n",
    "print('Test Accuracy: %.2f%%' % (gs.best_estimator_.score(X_test, y_test)*100))"
   ]
  },
  {
   "cell_type": "code",
   "execution_count": 13,
   "id": "ba9b0822",
   "metadata": {},
   "outputs": [
    {
     "name": "stdout",
     "output_type": "stream",
     "text": [
      "[[15009  6034]\n",
      " [11109  6939]]\n",
      "              precision    recall  f1-score   support\n",
      "\n",
      "           0       0.57      0.71      0.64     21043\n",
      "           1       0.53      0.38      0.45     18048\n",
      "\n",
      "    accuracy                           0.56     39091\n",
      "   macro avg       0.55      0.55      0.54     39091\n",
      "weighted avg       0.56      0.56      0.55     39091\n",
      "\n"
     ]
    }
   ],
   "source": [
    "y_pred_tree = gs.best_estimator_.predict(X_test)\n",
    "from sklearn.metrics import classification_report, confusion_matrix\n",
    "tree_conf = confusion_matrix(y_test, y_pred_tree)\n",
    "print(tree_conf)\n",
    "print(classification_report(y_test, y_pred_tree))\n"
   ]
  },
  {
   "cell_type": "code",
   "execution_count": null,
   "id": "85264f17",
   "metadata": {},
   "outputs": [],
   "source": []
  }
 ],
 "metadata": {
  "kernelspec": {
   "display_name": "Python 3",
   "language": "python",
   "name": "python3"
  },
  "language_info": {
   "codemirror_mode": {
    "name": "ipython",
    "version": 3
   },
   "file_extension": ".py",
   "mimetype": "text/x-python",
   "name": "python",
   "nbconvert_exporter": "python",
   "pygments_lexer": "ipython3",
   "version": "3.8.8"
  }
 },
 "nbformat": 4,
 "nbformat_minor": 5
}
