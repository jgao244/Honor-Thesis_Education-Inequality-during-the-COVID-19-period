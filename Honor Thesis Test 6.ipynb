{
 "cells": [
  {
   "cell_type": "code",
   "execution_count": 1,
   "id": "b3e9d49b",
   "metadata": {},
   "outputs": [],
   "source": [
    "import pandas as pd\n",
    "import numpy as np\n",
    "from sklearn.feature_selection import SelectKBest\n",
    "from sklearn.feature_selection import chi2\n",
    "from sklearn.model_selection import train_test_split\n",
    "from sklearn.linear_model import LinearRegression\n",
    "from sklearn.preprocessing import StandardScaler\n",
    "from sklearn.pipeline import Pipeline\n",
    "import sys"
   ]
  },
  {
   "cell_type": "code",
   "execution_count": 3,
   "id": "7a59d6b0",
   "metadata": {},
   "outputs": [],
   "source": [
    "df = pd.read_csv('new_hps9.csv')\n",
    "for index, row in df.iterrows():\n",
    "    if row['state_metropolitan'] == 'metropolitan':\n",
    "        df.at[index,'state_metropolitan'] = 1\n",
    "    else:\n",
    "        df.at[index,'state_metropolitan'] = 0\n",
    "        \n",
    "del df[\"teach_indivisualstudy\"]\n",
    "del df[\"Week\"]\n",
    "X = df.iloc[:,2:22]\n",
    "y = df.iloc[:,-1] \n"
   ]
  },
  {
   "cell_type": "code",
   "execution_count": 4,
   "id": "1265d9fe",
   "metadata": {},
   "outputs": [
    {
     "name": "stdout",
     "output_type": "stream",
     "text": [
      "        States  UI_quarantined  UI_highrisk state_metropolitan  \\\n",
      "0            1               1            0                  0   \n",
      "1            1               1            0                  0   \n",
      "2            1               1            0                  0   \n",
      "3            1               1            0                  0   \n",
      "4            1               1            0                  0   \n",
      "...        ...             ...          ...                ...   \n",
      "188763      56               1            0                  0   \n",
      "188764      56               1            0                  0   \n",
      "188765      56               1            0                  0   \n",
      "188766      56               1            0                  0   \n",
      "188767      56               1            0                  0   \n",
      "\n",
      "        Marital_Status  Food_Sufficency  Private_Health_insurance_status  \\\n",
      "0                    3                3                                1   \n",
      "1                    1                1                                1   \n",
      "2                    1                1                                1   \n",
      "3                    1                2                                1   \n",
      "4                    1                1                                1   \n",
      "...                ...              ...                              ...   \n",
      "188763               1                2                                1   \n",
      "188764               1                2                                2   \n",
      "188765               1                2                                1   \n",
      "188766               1                1                                1   \n",
      "188767               1                1                                2   \n",
      "\n",
      "        Public_Health_insurance_status  anxiety  worry  ...  Householdincome  \\\n",
      "0                                    2        4      4  ...                2   \n",
      "1                                    2        3      3  ...                6   \n",
      "2                                    2        2      1  ...                4   \n",
      "3                                    2        2      2  ...                6   \n",
      "4                                    2        2      2  ...                5   \n",
      "...                                ...      ...    ...  ...              ...   \n",
      "188763                               2        4      4  ...                8   \n",
      "188764                               1        4      4  ...                6   \n",
      "188765                               2        3      2  ...                5   \n",
      "188766                               2        4      4  ...                5   \n",
      "188767                               1        2      1  ...                3   \n",
      "\n",
      "        teach_cancelled  teach_distance_online  teach_distance_paper  \\\n",
      "0                     1                      1                     0   \n",
      "1                     1                      1                     0   \n",
      "2                     1                      1                     0   \n",
      "3                     0                      1                     0   \n",
      "4                     0                      1                     1   \n",
      "...                 ...                    ...                   ...   \n",
      "188763                0                      1                     0   \n",
      "188764                0                      1                     0   \n",
      "188765                0                      0                     0   \n",
      "188766                0                      0                     0   \n",
      "188767                0                      0                     0   \n",
      "\n",
      "        teach_others  teach_no.change  teach_livecontact  teach_studytime  \\\n",
      "0                  0                0                  1                1   \n",
      "1                  0                0                  1                1   \n",
      "2                  0                0                  4                2   \n",
      "3                  0                0                  3                2   \n",
      "4                  0                0                  3                1   \n",
      "...              ...              ...                ...              ...   \n",
      "188763             0                0                  4                3   \n",
      "188764             0                0                  4                2   \n",
      "188765             0                1                  4                4   \n",
      "188766             0                1                  4                3   \n",
      "188767             0                1                  4                3   \n",
      "\n",
      "        Health_insurance  whether_study  \n",
      "0                      1              0  \n",
      "1                      1              0  \n",
      "2                      1              0  \n",
      "3                      1              1  \n",
      "4                      1              0  \n",
      "...                  ...            ...  \n",
      "188763                 1              0  \n",
      "188764                 1              1  \n",
      "188765                 1              0  \n",
      "188766                 1              0  \n",
      "188767                 1              0  \n",
      "\n",
      "[188768 rows x 23 columns]\n"
     ]
    }
   ],
   "source": [
    "print(df)"
   ]
  },
  {
   "cell_type": "code",
   "execution_count": 5,
   "id": "9671d3b7",
   "metadata": {},
   "outputs": [
    {
     "name": "stdout",
     "output_type": "stream",
     "text": [
      "[0.03470099 0.         0.06513907 0.07493596 0.02098174 0.04842737\n",
      " 0.08740324 0.08233644 0.08116948 0.087117   0.03292329 0.14409044\n",
      " 0.02407355 0.02070364 0.018685   0.01097534 0.01424523 0.05580525\n",
      " 0.09042078 0.00586619]\n"
     ]
    },
    {
     "data": {
      "image/png": "[encoded data removed]",
      "text/plain": [
       "<Figure size 432x288 with 1 Axes>"
      ]
     },
     "metadata": {
      "needs_background": "light"
     },
     "output_type": "display_data"
    }
   ],
   "source": [
    "from sklearn.ensemble import ExtraTreesClassifier\n",
    "import matplotlib.pyplot as plt\n",
    "model = ExtraTreesClassifier()\n",
    "model.fit(X,y)\n",
    "print(model.feature_importances_) #use inbuilt class feature_importances of tree based classifiers\n",
    "#plot graph of feature importances for better visualization\n",
    "feat_importances = pd.Series(model.feature_importances_, index=X.columns)\n",
    "feat_importances.nlargest(10).plot(kind='barh')\n",
    "plt.show()"
   ]
  },
  {
   "cell_type": "code",
   "execution_count": 7,
   "id": "5d1d8e6d",
   "metadata": {},
   "outputs": [],
   "source": [
    "X = df[[ \"Householdincome\", \"teach_studytime\", \"teach_livecontact\", \"anxiety\", \"worry\", \"Marital_Status\", \"Food_Sufficency\", \"no_interest\",\"depression\",\"Public_Health_insurance_status\"]].to_numpy()\n",
    "y = df[['whether_study']].to_numpy()\n",
    "y = np.ravel(y)\n",
    "\n",
    "X_train, X_test, y_train, y_test = train_test_split(X, y, test_size=0.3, random_state=42)"
   ]
  },
  {
   "cell_type": "code",
   "execution_count": 1,
   "id": "1b70aea9",
   "metadata": {},
   "outputs": [
    {
     "ename": "NameError",
     "evalue": "name 'X_train' is not defined",
     "output_type": "error",
     "traceback": [
      "\u001b[0;31m---------------------------------------------------------------------------\u001b[0m",
      "\u001b[0;31mNameError\u001b[0m                                 Traceback (most recent call last)",
      "\u001b[0;32m<ipython-input-1-afb435e6cd1e>\u001b[0m in \u001b[0;36m<module>\u001b[0;34m\u001b[0m\n\u001b[1;32m      6\u001b[0m     \u001b[0mindex\u001b[0m\u001b[0;34m.\u001b[0m\u001b[0mappend\u001b[0m\u001b[0;34m(\u001b[0m\u001b[0mi\u001b[0m\u001b[0;34m+\u001b[0m \u001b[0;36m1\u001b[0m\u001b[0;34m)\u001b[0m\u001b[0;34m\u001b[0m\u001b[0;34m\u001b[0m\u001b[0m\n\u001b[1;32m      7\u001b[0m     \u001b[0mtree\u001b[0m \u001b[0;34m=\u001b[0m \u001b[0mDecisionTreeClassifier\u001b[0m\u001b[0;34m(\u001b[0m\u001b[0mmax_depth\u001b[0m\u001b[0;34m=\u001b[0m\u001b[0mi\u001b[0m \u001b[0;34m+\u001b[0m \u001b[0;36m1\u001b[0m\u001b[0;34m)\u001b[0m\u001b[0;34m\u001b[0m\u001b[0;34m\u001b[0m\u001b[0m\n\u001b[0;32m----> 8\u001b[0;31m     \u001b[0mtree\u001b[0m\u001b[0;34m.\u001b[0m\u001b[0mfit\u001b[0m\u001b[0;34m(\u001b[0m\u001b[0mX_train\u001b[0m\u001b[0;34m,\u001b[0m \u001b[0my_train\u001b[0m\u001b[0;34m)\u001b[0m\u001b[0;34m\u001b[0m\u001b[0;34m\u001b[0m\u001b[0m\n\u001b[0m\u001b[1;32m      9\u001b[0m     \u001b[0mtree_test_list\u001b[0m\u001b[0;34m.\u001b[0m\u001b[0mappend\u001b[0m\u001b[0;34m(\u001b[0m\u001b[0mtree\u001b[0m\u001b[0;34m.\u001b[0m\u001b[0mscore\u001b[0m\u001b[0;34m(\u001b[0m\u001b[0mX_test\u001b[0m\u001b[0;34m,\u001b[0m \u001b[0my_test\u001b[0m\u001b[0;34m)\u001b[0m\u001b[0;34m)\u001b[0m\u001b[0;34m\u001b[0m\u001b[0;34m\u001b[0m\u001b[0m\n\u001b[1;32m     10\u001b[0m     \u001b[0mtree_train_list\u001b[0m\u001b[0;34m.\u001b[0m\u001b[0mappend\u001b[0m\u001b[0;34m(\u001b[0m\u001b[0mtree\u001b[0m\u001b[0;34m.\u001b[0m\u001b[0mscore\u001b[0m\u001b[0;34m(\u001b[0m\u001b[0mX_train\u001b[0m\u001b[0;34m,\u001b[0m \u001b[0my_train\u001b[0m\u001b[0;34m)\u001b[0m\u001b[0;34m)\u001b[0m\u001b[0;34m\u001b[0m\u001b[0;34m\u001b[0m\u001b[0m\n",
      "\u001b[0;31mNameError\u001b[0m: name 'X_train' is not defined"
     ]
    }
   ],
   "source": [
    "from sklearn.tree import DecisionTreeClassifier\n",
    "tree_train_list = []\n",
    "index = []\n",
    "tree_test_list = []\n",
    "for i in range(100):\n",
    "    index.append(i+ 1)\n",
    "    tree = DecisionTreeClassifier(max_depth=i + 1)\n",
    "    tree.fit(X_train, y_train)\n",
    "    tree_test_list.append(tree.score(X_test, y_test)) \n",
    "    tree_train_list.append(tree.score(X_train, y_train)) "
   ]
  },
  {
   "cell_type": "code",
   "execution_count": 9,
   "id": "d184cda8",
   "metadata": {},
   "outputs": [
    {
     "data": {
      "image/png": "[encoded data removed]",
      "text/plain": [
       "<Figure size 432x288 with 1 Axes>"
      ]
     },
     "metadata": {
      "needs_background": "light"
     },
     "output_type": "display_data"
    }
   ],
   "source": [
    "plt.plot(index, tree_train_list, marker='o', label='Train')\n",
    "plt.plot(index, tree_test_list, marker='s', label='Test')\n",
    "plt.legend(loc='best', numpoints=1)\n",
    "plt.xlabel('max_depth')\n",
    "plt.ylabel('Accuracy')\n",
    "plt.tight_layout()"
   ]
  },
  {
   "cell_type": "code",
   "execution_count": 10,
   "id": "889c41b1",
   "metadata": {},
   "outputs": [
    {
     "name": "stdout",
     "output_type": "stream",
     "text": [
      "Best Accuracy: 63.57%\n",
      "Best Params: {'criterion': 'entropy', 'max_depth': 6}\n",
      "Test Accuracy: 63.76%\n"
     ]
    }
   ],
   "source": [
    "from sklearn.model_selection import GridSearchCV\n",
    "tree = DecisionTreeClassifier(random_state=123)\n",
    "\n",
    "new_list = [None]\n",
    "for i in range(20):\n",
    "    new_list.append(i+1)\n",
    "param_grid = {\n",
    "    'criterion': ['gini', 'entropy'],\n",
    "    'max_depth': new_list\n",
    "}\n",
    "\n",
    "gs = GridSearchCV(estimator=tree,\n",
    "                  param_grid=param_grid,\n",
    "                  scoring='accuracy',\n",
    "                  cv=10)\n",
    "\n",
    "gs.fit(X_train, y_train)\n",
    "\n",
    "print('Best Accuracy: %.2f%%' % (gs.best_score_*100))\n",
    "print('Best Params: %s' % gs.best_params_)\n",
    "print('Test Accuracy: %.2f%%' % (gs.best_estimator_.score(X_test, y_test)*100))"
   ]
  },
  {
   "cell_type": "code",
   "execution_count": 11,
   "id": "a32f8345",
   "metadata": {},
   "outputs": [
    {
     "name": "stdout",
     "output_type": "stream",
     "text": [
      "[[33529  2269]\n",
      " [18256  2577]]\n",
      "              precision    recall  f1-score   support\n",
      "\n",
      "           0       0.65      0.94      0.77     35798\n",
      "           1       0.53      0.12      0.20     20833\n",
      "\n",
      "    accuracy                           0.64     56631\n",
      "   macro avg       0.59      0.53      0.48     56631\n",
      "weighted avg       0.60      0.64      0.56     56631\n",
      "\n"
     ]
    }
   ],
   "source": [
    "y_pred_tree = gs.best_estimator_.predict(X_test)\n",
    "from sklearn.metrics import classification_report, confusion_matrix\n",
    "tree_conf = confusion_matrix(y_test, y_pred_tree)\n",
    "print(tree_conf)\n",
    "print(classification_report(y_test, y_pred_tree))\n"
   ]
  },
  {
   "cell_type": "code",
   "execution_count": 12,
   "id": "60ab7854",
   "metadata": {},
   "outputs": [
    {
     "data": {
      "image/png": "[encoded data removed]",
      "text/plain": [
       "<Figure size 144x144 with 2 Axes>"
      ]
     },
     "metadata": {
      "needs_background": "light"
     },
     "output_type": "display_data"
    }
   ],
   "source": [
    "from mlxtend.plotting import plot_confusion_matrix\n",
    "import matplotlib.pyplot as plt\n",
    "\n",
    "fig, ax = plot_confusion_matrix(conf_mat=tree_conf,\n",
    "                                show_absolute=True,\n",
    "                                show_normed=True,\n",
    "                                colorbar=True,\n",
    "                                figsize=(2, 2))\n",
    "plt.show()"
   ]
  },
  {
   "cell_type": "code",
   "execution_count": 13,
   "id": "bd49fdd5",
   "metadata": {},
   "outputs": [
    {
     "name": "stdout",
     "output_type": "stream",
     "text": [
      "0.36781974536914414\n",
      "Test Accuracy: 63.22%\n"
     ]
    }
   ],
   "source": [
    "from sklearn.linear_model import LogisticRegression\n",
    "\n",
    "log_res = LogisticRegression(random_state=123, C = 0.001)\n",
    "\n",
    "log_res.fit(X_train, y_train)\n",
    "from sklearn.metrics import mean_squared_error\n",
    "y_pred = log_res.predict(X_test)\n",
    "print(mean_squared_error(y_test, y_pred))\n",
    "\n",
    "print('Test Accuracy: %.2f%%' % (log_res.score(X_test, y_test)*100))"
   ]
  },
  {
   "cell_type": "code",
   "execution_count": 14,
   "id": "31b5867d",
   "metadata": {},
   "outputs": [
    {
     "name": "stdout",
     "output_type": "stream",
     "text": [
      "Best Accuracy: 63.49%\n",
      "Best Params: {'criterion': 'entropy', 'max_depth': 10, 'n_estimators': 100}\n",
      "Test Accuracy: 63.69%\n"
     ]
    }
   ],
   "source": [
    "from sklearn.model_selection import GridSearchCV\n",
    "from sklearn.ensemble import RandomForestClassifier\n",
    "forest = RandomForestClassifier(n_estimators=10, random_state=123)\n",
    "\n",
    "param_grid_forest = {\n",
    "    'criterion': ['gini', 'entropy'],\n",
    "    'n_estimators': [10, 20, 50, 100, 150],\n",
    "    'max_depth': [1, 10, 50, 100, 150]\n",
    "}\n",
    "\n",
    "gs_forest = GridSearchCV(estimator=forest,\n",
    "                  param_grid=param_grid_forest,\n",
    "                  scoring='accuracy',\n",
    "                  cv=10)\n",
    "\n",
    "gs_forest.fit(X_train, y_train)\n",
    "\n",
    "print('Best Accuracy: %.2f%%' % (gs_forest.best_score_*100))\n",
    "print('Best Params: %s' % gs_forest.best_params_)\n",
    "print('Test Accuracy: %.2f%%' % (gs_forest.best_estimator_.score(X_test, y_test)*100))"
   ]
  },
  {
   "cell_type": "code",
   "execution_count": 15,
   "id": "822748bd",
   "metadata": {},
   "outputs": [
    {
     "name": "stdout",
     "output_type": "stream",
     "text": [
      "[[34411  1387]\n",
      " [19173  1660]]\n",
      "              precision    recall  f1-score   support\n",
      "\n",
      "           0       0.64      0.96      0.77     35798\n",
      "           1       0.54      0.08      0.14     20833\n",
      "\n",
      "    accuracy                           0.64     56631\n",
      "   macro avg       0.59      0.52      0.45     56631\n",
      "weighted avg       0.61      0.64      0.54     56631\n",
      "\n"
     ]
    }
   ],
   "source": [
    "y_pred_tree_1 = gs_forest.best_estimator_.predict(X_test)\n",
    "\n",
    "tree_conf_1 = confusion_matrix(y_test, y_pred_tree_1)\n",
    "print(tree_conf_1)\n",
    "print(classification_report(y_test, y_pred_tree_1))"
   ]
  },
  {
   "cell_type": "code",
   "execution_count": 16,
   "id": "74619d67",
   "metadata": {},
   "outputs": [
    {
     "data": {
      "image/png": "[encoded data removed]",
      "text/plain": [
       "<Figure size 144x144 with 2 Axes>"
      ]
     },
     "metadata": {
      "needs_background": "light"
     },
     "output_type": "display_data"
    }
   ],
   "source": [
    "from mlxtend.plotting import plot_confusion_matrix\n",
    "import matplotlib.pyplot as plt\n",
    "\n",
    "fig, ax = plot_confusion_matrix(conf_mat=tree_conf_1,\n",
    "                                show_absolute=True,\n",
    "                                show_normed=True,\n",
    "                                colorbar=True,\n",
    "                                figsize=(2, 2))\n",
    "plt.show()"
   ]
  },
  {
   "cell_type": "code",
   "execution_count": 17,
   "id": "37e1bcf9",
   "metadata": {},
   "outputs": [
    {
     "name": "stdout",
     "output_type": "stream",
     "text": [
      "Test Accuracy: 63.45%\n"
     ]
    }
   ],
   "source": [
    "from sklearn.naive_bayes import GaussianNB\n",
    "nb=GaussianNB()\n",
    "nb.fit(X_train,y_train)\n",
    "nb=nb.score(X_test,y_test)\n",
    "\n",
    "print('Test Accuracy: %.2f%%' % (nb*100))"
   ]
  }
 ],
 "metadata": {
  "kernelspec": {
   "display_name": "Python 3",
   "language": "python",
   "name": "python3"
  },
  "language_info": {
   "codemirror_mode": {
    "name": "ipython",
    "version": 3
   },
   "file_extension": ".py",
   "mimetype": "text/x-python",
   "name": "python",
   "nbconvert_exporter": "python",
   "pygments_lexer": "ipython3",
   "version": "3.8.8"
  }
 },
 "nbformat": 4,
 "nbformat_minor": 5
}
