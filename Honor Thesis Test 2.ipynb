{
 "cells": [
  {
   "cell_type": "code",
   "execution_count": 1,
   "id": "0211cb69",
   "metadata": {},
   "outputs": [],
   "source": [
    "import pandas as pd\n",
    "import numpy as np\n",
    "from sklearn.feature_selection import SelectKBest\n",
    "from sklearn.feature_selection import chi2\n",
    "from sklearn.model_selection import train_test_split\n",
    "from sklearn.linear_model import LinearRegression\n",
    "from sklearn.preprocessing import StandardScaler\n",
    "from sklearn.pipeline import Pipeline\n",
    "import sys"
   ]
  },
  {
   "cell_type": "code",
   "execution_count": 6,
   "id": "2c7150e1",
   "metadata": {},
   "outputs": [],
   "source": [
    "df = pd.read_csv('new_hps5.csv')\n",
    "for index, row in df.iterrows():\n",
    "    if row['state_metropolitan'] == 'metropolitan':\n",
    "        df.at[index,'state_metropolitan'] = 1\n",
    "    else:\n",
    "        df.at[index,'state_metropolitan'] = 0\n",
    "        \n",
    "del df[\"teach_indivisualstudy\"]\n",
    "del df[\"Week\"]\n",
    "X = df.iloc[:,2:22]\n",
    "y = df.iloc[:,-1] \n"
   ]
  },
  {
   "cell_type": "code",
   "execution_count": 8,
   "id": "41c17863",
   "metadata": {},
   "outputs": [
    {
     "name": "stdout",
     "output_type": "stream",
     "text": [
      "[0.03613153 0.         0.06797332 0.07721509 0.02074908 0.04820056\n",
      " 0.08783747 0.08289229 0.08207276 0.08955577 0.03531354 0.14364256\n",
      " 0.02721937 0.01532076 0.02012644 0.01117968 0.00708447 0.04945503\n",
      " 0.09244465 0.00558562]\n"
     ]
    },
    {
     "data": {
      "image/png": "[encoded data removed]",
      "text/plain": [
       "<Figure size 432x288 with 1 Axes>"
      ]
     },
     "metadata": {
      "needs_background": "light"
     },
     "output_type": "display_data"
    }
   ],
   "source": [
    "from sklearn.ensemble import ExtraTreesClassifier\n",
    "import matplotlib.pyplot as plt\n",
    "model = ExtraTreesClassifier()\n",
    "model.fit(X,y)\n",
    "print(model.feature_importances_) #use inbuilt class feature_importances of tree based classifiers\n",
    "#plot graph of feature importances for better visualization\n",
    "feat_importances = pd.Series(model.feature_importances_, index=X.columns)\n",
    "feat_importances.nlargest(10).plot(kind='barh')\n",
    "plt.show()"
   ]
  },
  {
   "cell_type": "code",
   "execution_count": 9,
   "id": "d04e808e",
   "metadata": {},
   "outputs": [],
   "source": [
    "X = df[[ \"Householdincome\", \"teach_studytime\", \"teach_livecontact\", \"anxiety\", \"worry\", \"Marital_Status\", \"Food_Sufficency\", \"no_interest\",\"depression\",\"Public_Health_insurance_status\"]].to_numpy()\n",
    "y = df[['whether_study']].to_numpy()\n",
    "y = np.ravel(y)\n",
    "\n",
    "X_train, X_test, y_train, y_test = train_test_split(X, y, test_size=0.3, random_state=42)"
   ]
  },
  {
   "cell_type": "code",
   "execution_count": 10,
   "id": "61a1eab6",
   "metadata": {},
   "outputs": [],
   "source": [
    "from sklearn.tree import DecisionTreeClassifier\n",
    "tree_train_list = []\n",
    "index = []\n",
    "tree_test_list = []\n",
    "for i in range(100):\n",
    "    index.append(i+ 1)\n",
    "    tree = DecisionTreeClassifier(max_depth=i + 1)\n",
    "    tree.fit(X_train, y_train)\n",
    "    tree_test_list.append(tree.score(X_test, y_test)) \n",
    "    tree_train_list.append(tree.score(X_train, y_train)) "
   ]
  },
  {
   "cell_type": "code",
   "execution_count": 11,
   "id": "4db92d63",
   "metadata": {},
   "outputs": [
    {
     "data": {
      "image/png": "[encoded data removed]",
      "text/plain": [
       "<Figure size 432x288 with 1 Axes>"
      ]
     },
     "metadata": {
      "needs_background": "light"
     },
     "output_type": "display_data"
    }
   ],
   "source": [
    "plt.plot(index, tree_train_list, marker='o', label='Train')\n",
    "plt.plot(index, tree_test_list, marker='s', label='Test')\n",
    "plt.legend(loc='best', numpoints=1)\n",
    "plt.xlabel('max_depth')\n",
    "plt.ylabel('Accuracy')\n",
    "plt.tight_layout()"
   ]
  },
  {
   "cell_type": "code",
   "execution_count": 25,
   "id": "059b2feb",
   "metadata": {},
   "outputs": [
    {
     "name": "stdout",
     "output_type": "stream",
     "text": [
      "Best Accuracy: 57.09%\n",
      "Best Params: {'criterion': 'entropy', 'max_depth': 20}\n",
      "Test Accuracy: 57.38%\n"
     ]
    }
   ],
   "source": [
    "from sklearn.model_selection import GridSearchCV\n",
    "tree = DecisionTreeClassifier(random_state=123)\n",
    "\n",
    "new_list = [20]\n",
    "\n",
    "param_grid = {\n",
    "    'criterion': ['gini', 'entropy'],\n",
    "    'max_depth': new_list\n",
    "}\n",
    "gs = GridSearchCV(estimator=tree,\n",
    "                  param_grid=param_grid,\n",
    "                  scoring='accuracy',\n",
    "                  cv=10)\n",
    "\n",
    "gs.fit(X_train, y_train)\n",
    "\n",
    "print('Best Accuracy: %.2f%%' % (gs.best_score_*100))\n",
    "print('Best Params: %s' % gs.best_params_)\n",
    "print('Test Accuracy: %.2f%%' % (gs.best_estimator_.score(X_test, y_test)*100))"
   ]
  },
  {
   "cell_type": "code",
   "execution_count": 24,
   "id": "7aabad50",
   "metadata": {},
   "outputs": [
    {
     "name": "stdout",
     "output_type": "stream",
     "text": [
      "[[35549   143    94    12]\n",
      " [11513    53    44     3]\n",
      " [ 7378    34    34     4]\n",
      " [ 1745    18     6     1]]\n",
      "              precision    recall  f1-score   support\n",
      "\n",
      "           1       0.63      0.99      0.77     35798\n",
      "           2       0.21      0.00      0.01     11613\n",
      "           3       0.19      0.00      0.01      7450\n",
      "           4       0.05      0.00      0.00      1770\n",
      "\n",
      "    accuracy                           0.63     56631\n",
      "   macro avg       0.27      0.25      0.20     56631\n",
      "weighted avg       0.47      0.63      0.49     56631\n",
      "\n"
     ]
    }
   ],
   "source": [
    "y_pred_tree = gs.best_estimator_.predict(X_test)\n",
    "from sklearn.metrics import classification_report, confusion_matrix\n",
    "tree_conf = confusion_matrix(y_test, y_pred_tree)\n",
    "print(tree_conf)\n",
    "print(classification_report(y_test, y_pred_tree))\n"
   ]
  },
  {
   "cell_type": "code",
   "execution_count": 14,
   "id": "28a1887a",
   "metadata": {},
   "outputs": [
    {
     "name": "stdout",
     "output_type": "stream",
     "text": [
      "1.0125726192368139\n",
      "Test Accuracy: 63.21%\n"
     ]
    },
    {
     "name": "stderr",
     "output_type": "stream",
     "text": [
      "/Users/jiayigao/opt/anaconda3/lib/python3.8/site-packages/sklearn/linear_model/_logistic.py:763: ConvergenceWarning: lbfgs failed to converge (status=1):\n",
      "STOP: TOTAL NO. of ITERATIONS REACHED LIMIT.\n",
      "\n",
      "Increase the number of iterations (max_iter) or scale the data as shown in:\n",
      "    https://scikit-learn.org/stable/modules/preprocessing.html\n",
      "Please also refer to the documentation for alternative solver options:\n",
      "    https://scikit-learn.org/stable/modules/linear_model.html#logistic-regression\n",
      "  n_iter_i = _check_optimize_result(\n"
     ]
    }
   ],
   "source": []
  }
 ],
 "metadata": {
  "kernelspec": {
   "display_name": "Python 3",
   "language": "python",
   "name": "python3"
  },
  "language_info": {
   "codemirror_mode": {
    "name": "ipython",
    "version": 3
   },
   "file_extension": ".py",
   "mimetype": "text/x-python",
   "name": "python",
   "nbconvert_exporter": "python",
   "pygments_lexer": "ipython3",
   "version": "3.8.8"
  }
 },
 "nbformat": 4,
 "nbformat_minor": 5
}
