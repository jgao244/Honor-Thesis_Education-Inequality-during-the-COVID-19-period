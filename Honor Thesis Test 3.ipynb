{
 "cells": [
  {
   "cell_type": "code",
   "execution_count": 1,
   "id": "10984d82",
   "metadata": {},
   "outputs": [],
   "source": [
    "import pandas as pd\n",
    "import numpy as np\n",
    "from sklearn.feature_selection import SelectKBest\n",
    "from sklearn.feature_selection import chi2\n",
    "from sklearn.model_selection import train_test_split\n",
    "from sklearn.linear_model import LinearRegression\n",
    "from sklearn.preprocessing import StandardScaler\n",
    "from sklearn.pipeline import Pipeline\n",
    "import sys"
   ]
  },
  {
   "cell_type": "code",
   "execution_count": 4,
   "id": "4ffd73c7",
   "metadata": {},
   "outputs": [],
   "source": [
    "df = pd.read_csv('new_hps6.csv')\n",
    "for index, row in df.iterrows():\n",
    "    if row['state_metropolitan'] == 'metropolitan':\n",
    "        df.at[index,'state_metropolitan'] = 1\n",
    "    else:\n",
    "        df.at[index,'state_metropolitan'] = 0\n",
    "        \n",
    "del df[\"teach_indivisualstudy\"]\n",
    "del df[\"Week\"]\n",
    "X = df.iloc[:,2:22]\n",
    "y = df.iloc[:,-1] "
   ]
  },
  {
   "cell_type": "code",
   "execution_count": 5,
   "id": "1f206d7c",
   "metadata": {},
   "outputs": [
    {
     "name": "stdout",
     "output_type": "stream",
     "text": [
      "[0.03868786 0.         0.07405706 0.07728671 0.0217941  0.04848915\n",
      " 0.08806602 0.08383723 0.08237478 0.09109172 0.03503435 0.15240339\n",
      " 0.02567306 0.01078473 0.0186239  0.00996403 0.00603713 0.04362055\n",
      " 0.08584614 0.00632808]\n"
     ]
    },
    {
     "data": {
      "image/png": "[encoded data removed]",
      "text/plain": [
       "<Figure size 432x288 with 1 Axes>"
      ]
     },
     "metadata": {
      "needs_background": "light"
     },
     "output_type": "display_data"
    }
   ],
   "source": [
    "from sklearn.ensemble import ExtraTreesClassifier\n",
    "import matplotlib.pyplot as plt\n",
    "model = ExtraTreesClassifier()\n",
    "model.fit(X,y)\n",
    "print(model.feature_importances_) #use inbuilt class feature_importances of tree based classifiers\n",
    "#plot graph of feature importances for better visualization\n",
    "feat_importances = pd.Series(model.feature_importances_, index=X.columns)\n",
    "feat_importances.nlargest(10).plot(kind='barh')\n",
    "plt.show()"
   ]
  },
  {
   "cell_type": "code",
   "execution_count": 6,
   "id": "8d94289d",
   "metadata": {},
   "outputs": [],
   "source": [
    "X = df[[ \"Householdincome\", \"teach_studytime\", \"teach_livecontact\", \"anxiety\", \"worry\", \"Marital_Status\", \"Food_Sufficency\", \"no_interest\",\"depression\",\"Public_Health_insurance_status\"]].to_numpy()\n",
    "y = df[['whether_study']].to_numpy()\n",
    "y = np.ravel(y)\n",
    "\n",
    "X_train, X_test, y_train, y_test = train_test_split(X, y, test_size=0.3, random_state=42)"
   ]
  },
  {
   "cell_type": "code",
   "execution_count": 7,
   "id": "021fe4df",
   "metadata": {},
   "outputs": [],
   "source": [
    "from sklearn.tree import DecisionTreeClassifier\n",
    "tree_train_list = []\n",
    "index = []\n",
    "tree_test_list = []\n",
    "for i in range(100):\n",
    "    index.append(i+ 1)\n",
    "    tree = DecisionTreeClassifier(max_depth=i + 1)\n",
    "    tree.fit(X_train, y_train)\n",
    "    tree_test_list.append(tree.score(X_test, y_test)) \n",
    "    tree_train_list.append(tree.score(X_train, y_train)) "
   ]
  },
  {
   "cell_type": "code",
   "execution_count": 8,
   "id": "c0ed3e84",
   "metadata": {},
   "outputs": [
    {
     "data": {
      "image/png": "[encoded data removed]",
      "text/plain": [
       "<Figure size 432x288 with 1 Axes>"
      ]
     },
     "metadata": {
      "needs_background": "light"
     },
     "output_type": "display_data"
    }
   ],
   "source": [
    "plt.plot(index, tree_train_list, marker='o', label='Train')\n",
    "plt.plot(index, tree_test_list, marker='s', label='Test')\n",
    "plt.legend(loc='best', numpoints=1)\n",
    "plt.xlabel('max_depth')\n",
    "plt.ylabel('Accuracy')\n",
    "plt.tight_layout()"
   ]
  },
  {
   "cell_type": "code",
   "execution_count": 9,
   "id": "932f9cce",
   "metadata": {},
   "outputs": [
    {
     "name": "stdout",
     "output_type": "stream",
     "text": [
      "Best Accuracy: 37.20%\n",
      "Best Params: {'criterion': 'gini', 'max_depth': 6}\n",
      "Test Accuracy: 37.21%\n"
     ]
    }
   ],
   "source": [
    "from sklearn.model_selection import GridSearchCV\n",
    "tree = DecisionTreeClassifier(random_state=123)\n",
    "\n",
    "new_list = [None]\n",
    "for i in range(20):\n",
    "    new_list.append(i+1)\n",
    "param_grid = {\n",
    "    'criterion': ['gini', 'entropy'],\n",
    "    'max_depth': new_list\n",
    "}\n",
    "\n",
    "gs = GridSearchCV(estimator=tree,\n",
    "                  param_grid=param_grid,\n",
    "                  scoring='accuracy',\n",
    "                  cv=10)\n",
    "\n",
    "gs.fit(X_train, y_train)\n",
    "\n",
    "print('Best Accuracy: %.2f%%' % (gs.best_score_*100))\n",
    "print('Best Params: %s' % gs.best_params_)\n",
    "print('Test Accuracy: %.2f%%' % (gs.best_estimator_.score(X_test, y_test)*100))"
   ]
  },
  {
   "cell_type": "code",
   "execution_count": 10,
   "id": "1895a9df",
   "metadata": {},
   "outputs": [
    {
     "name": "stdout",
     "output_type": "stream",
     "text": [
      "[[19741  1346     0     0     0     0     0     0]\n",
      " [13381  1330     0     0     0     0     0     0]\n",
      " [ 7835   965     0     0     0     0     0     0]\n",
      " [ 2440   373     0     0     0     0     0     0]\n",
      " [ 2788   475     0     0     0     0     0     0]\n",
      " [ 3506   681     0     0     0     0     0     0]\n",
      " [  489   138     0     0     0     0     0     0]\n",
      " [  973   170     0     0     0     0     0     0]]\n",
      "              precision    recall  f1-score   support\n",
      "\n",
      "           1       0.39      0.94      0.55     21087\n",
      "           2       0.24      0.09      0.13     14711\n",
      "           3       0.00      0.00      0.00      8800\n",
      "           4       0.00      0.00      0.00      2813\n",
      "           5       0.00      0.00      0.00      3263\n",
      "           6       0.00      0.00      0.00      4187\n",
      "           7       0.00      0.00      0.00       627\n",
      "           8       0.00      0.00      0.00      1143\n",
      "\n",
      "    accuracy                           0.37     56631\n",
      "   macro avg       0.08      0.13      0.08     56631\n",
      "weighted avg       0.21      0.37      0.24     56631\n",
      "\n"
     ]
    },
    {
     "name": "stderr",
     "output_type": "stream",
     "text": [
      "/Users/jiayigao/opt/anaconda3/lib/python3.8/site-packages/sklearn/metrics/_classification.py:1245: UndefinedMetricWarning: Precision and F-score are ill-defined and being set to 0.0 in labels with no predicted samples. Use `zero_division` parameter to control this behavior.\n",
      "  _warn_prf(average, modifier, msg_start, len(result))\n",
      "/Users/jiayigao/opt/anaconda3/lib/python3.8/site-packages/sklearn/metrics/_classification.py:1245: UndefinedMetricWarning: Precision and F-score are ill-defined and being set to 0.0 in labels with no predicted samples. Use `zero_division` parameter to control this behavior.\n",
      "  _warn_prf(average, modifier, msg_start, len(result))\n",
      "/Users/jiayigao/opt/anaconda3/lib/python3.8/site-packages/sklearn/metrics/_classification.py:1245: UndefinedMetricWarning: Precision and F-score are ill-defined and being set to 0.0 in labels with no predicted samples. Use `zero_division` parameter to control this behavior.\n",
      "  _warn_prf(average, modifier, msg_start, len(result))\n"
     ]
    }
   ],
   "source": [
    "y_pred_tree = gs.best_estimator_.predict(X_test)\n",
    "from sklearn.metrics import classification_report, confusion_matrix\n",
    "tree_conf = confusion_matrix(y_test, y_pred_tree)\n",
    "print(tree_conf)\n",
    "print(classification_report(y_test, y_pred_tree))\n"
   ]
  }
 ],
 "metadata": {
  "kernelspec": {
   "display_name": "Python 3",
   "language": "python",
   "name": "python3"
  },
  "language_info": {
   "codemirror_mode": {
    "name": "ipython",
    "version": 3
   },
   "file_extension": ".py",
   "mimetype": "text/x-python",
   "name": "python",
   "nbconvert_exporter": "python",
   "pygments_lexer": "ipython3",
   "version": "3.8.8"
  }
 },
 "nbformat": 4,
 "nbformat_minor": 5
}
